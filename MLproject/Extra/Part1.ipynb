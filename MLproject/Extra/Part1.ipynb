{
 "cells": [
  {
   "cell_type": "markdown",
   "metadata": {},
   "source": [
    "# Part 1"
   ]
  },
  {
   "cell_type": "code",
   "execution_count": 14,
   "metadata": {},
   "outputs": [
    {
     "name": "stdout",
     "output_type": "stream",
     "text": [
      "Prediction accuracy is 89.5 for K = 1 \n",
      "Prediction accuracy is 89.5 for K = 2 \n",
      "Prediction accuracy is 91.3 for K = 3 \n",
      "Prediction accuracy is 91.9 for K = 4 \n",
      "Prediction accuracy is 92.4 for K = 5 \n",
      "Prediction accuracy is 92.5 for K = 6 \n",
      "Prediction accuracy is 92.30000000000001 for K = 7 \n",
      "Prediction accuracy is 92.7 for K = 8 \n",
      "Prediction accuracy is 92.9 for K = 9 \n",
      "Prediction accuracy is 93.10000000000001 for K = 10 \n"
     ]
    },
    {
     "data": {
      "image/png": "[encoded data removed]",
      "text/plain": [
       "<Figure size 432x288 with 1 Axes>"
      ]
     },
     "metadata": {
      "needs_background": "light"
     },
     "output_type": "display_data"
    }
   ],
   "source": [
    "import numpy as np\n",
    "from collections import Counter\n",
    "import matplotlib.pyplot as plt\n",
    "\n",
    "class MLPart1:\n",
    "    def __init__(self, __trainingDataFile, __testDataFile, __k):\n",
    "        self.trainingDataFileName = __trainingDataFile\n",
    "        self.testDataFileName = __testDataFile\n",
    "        self.trainingData = np.array([])\n",
    "        self.testData = np.array([])\n",
    "        self.euclideanDistances = np.array([])\n",
    "        self.euclideanDistancesSorted = np.array([])\n",
    "        self.predictions = np.array([])\n",
    "        self.originalCategories = np.array([])\n",
    "        self.readInstances()\n",
    "        self.k = __k\n",
    "\n",
    "    def readInstances(self):\n",
    "        \"\"\"\n",
    "        Reading an instance from fName\n",
    "        \"\"\"\n",
    "        self.trainingData = np.genfromtxt(self.trainingDataFileName, delimiter=',', dtype=float)\n",
    "        self.testData = np.genfromtxt(self.testDataFileName, delimiter=',', dtype=float)\n",
    "        self.originalCategories = self.testData[:, -1]\n",
    "\n",
    "    # Works on local variables and returns 2 numpy array\n",
    "    def calculateDistances(self,trainingInstancesMatrix, singlQueryPoint):\n",
    "        data = np.sqrt(np.sum((trainingInstancesMatrix - singlQueryPoint) ** 2, axis=1))\n",
    "        return data, np.argsort(data)\n",
    "\n",
    "    # Works on global variables\n",
    "    def updateDistances(self):\n",
    "         distances = []\n",
    "         sortedDistances = []\n",
    "         for i in range(0, np.shape(self.testData)[0]):\n",
    "            d, sd = self.calculateDistances(self.trainingData[:, :-1], self.testData[i, :-1])\n",
    "            distances.append(d)\n",
    "            sortedDistances.append(sd)\n",
    "            i+= 1\n",
    "         self.euclideanDistances = np.array(distances)\n",
    "         self.euclideanDistancesSorted = np.array(sortedDistances)\n",
    "\n",
    "    def predictCategories(self):\n",
    "        prediction = np.array([])\n",
    "        # To order tp improve performance, avoid calculation with K=1\n",
    "        if self.k == 1:\n",
    "            for i in range(0, len(self.euclideanDistances)):\n",
    "                index = self.euclideanDistancesSorted[i][0]\n",
    "                prediction = np.append(prediction, self.trainingData[index][-1])\n",
    "        else:\n",
    "            for i in range(0, len(self.euclideanDistances)):\n",
    "                indices = self.euclideanDistancesSorted[i, :self.k]\n",
    "                indice_category_distance = {}\n",
    "                tie = []\n",
    "                for indice in indices:\n",
    "                    tie.append(self.trainingData[indice][-1])\n",
    "                data = Counter(tie)\n",
    "                #print(data.most_common(1)[0][0])  # Returns the highest occurring item\n",
    "                prediction = np.append(prediction, data.most_common(1)[0][0])\n",
    "        self.predictions = prediction\n",
    "\n",
    "\n",
    "    def predictionAccuracy(self):\n",
    "        instancesCount = len(self.originalCategories)\n",
    "        correctPredictionCounter = 0\n",
    "        for i in range(0,instancesCount):\n",
    "            if self.originalCategories[i] == self.predictions[i]:\n",
    "                correctPredictionCounter +=1\n",
    "        return (correctPredictionCounter/instancesCount) * 100\n",
    "\n",
    "    def viewData(self):\n",
    "        print(self.euclideanDistances)\n",
    "\n",
    "    def search(self):\n",
    "        self.updateDistances()\n",
    "        self.predictCategories()\n",
    "        return self.predictionAccuracy()\n",
    "\n",
    "        \n",
    "prediction_over_k = np.array([])   \n",
    "K = np.array([])\n",
    "for i in range(1,11):\n",
    "    ml = MLPart1(\"data\\\\classification\\\\trainingData.csv\", \"data\\\\classification\\\\testData.csv\", i)\n",
    "    tmp = ml.search()\n",
    "    print(\"Prediction accuracy is {} for K = {} \".format(tmp,i))\n",
    "    K = np.append(K,i)\n",
    "    prediction_over_k = np.append(prediction_over_k, tmp)\n",
    "\n",
    "plt.xlabel(\"Value of K\")\n",
    "plt.ylabel(\"Accuracy prediction\")\n",
    "plt.title(\"Part 1 - Graph\")\n",
    "plt.plot(K,prediction_over_k)\n",
    "plt.show()\n"
   ]
  },
  {
   "cell_type": "code",
   "execution_count": null,
   "metadata": {},
   "outputs": [],
   "source": []
  }
 ],
 "metadata": {
  "kernelspec": {
   "display_name": "Python 3",
   "language": "python",
   "name": "python3"
  },
  "language_info": {
   "codemirror_mode": {
    "name": "ipython",
    "version": 3
   },
   "file_extension": ".py",
   "mimetype": "text/x-python",
   "name": "python",
   "nbconvert_exporter": "python",
   "pygments_lexer": "ipython3",
   "version": "3.7.3"
  }
 },
 "nbformat": 4,
 "nbformat_minor": 2
}
